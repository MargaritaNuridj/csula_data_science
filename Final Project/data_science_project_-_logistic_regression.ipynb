{
 "cells": [
  {
   "cell_type": "markdown",
   "metadata": {},
   "source": [
    "# CS 4661 Project: Spooky Author Identification (Logistic Regression Method)\n",
    "### By Margarita Nuridjanian,"
   ]
  },
  {
   "cell_type": "code",
   "execution_count": 9,
   "metadata": {},
   "outputs": [],
   "source": [
    "# Importing the required packages and libraries\n",
    "import pandas as pd\n",
    "import numpy as np\n",
    "from sklearn.feature_extraction.text import CountVectorizer\n",
    "from sklearn.naive_bayes import MultinomialNB\n",
    "from sklearn.pipeline import Pipeline\n",
    "from sklearn.metrics import accuracy_score\n",
    "from sklearn.model_selection import train_test_split\n",
    "from sklearn.tree import DecisionTreeClassifier\n",
    "from sklearn.linear_model import LogisticRegression"
   ]
  },
  {
   "cell_type": "code",
   "execution_count": 10,
   "metadata": {},
   "outputs": [
    {
     "data": {
      "text/html": [
       "<div>\n",
       "<style scoped>\n",
       "    .dataframe tbody tr th:only-of-type {\n",
       "        vertical-align: middle;\n",
       "    }\n",
       "\n",
       "    .dataframe tbody tr th {\n",
       "        vertical-align: top;\n",
       "    }\n",
       "\n",
       "    .dataframe thead th {\n",
       "        text-align: right;\n",
       "    }\n",
       "</style>\n",
       "<table border=\"1\" class=\"dataframe\">\n",
       "  <thead>\n",
       "    <tr style=\"text-align: right;\">\n",
       "      <th></th>\n",
       "      <th>id</th>\n",
       "      <th>text</th>\n",
       "    </tr>\n",
       "  </thead>\n",
       "  <tbody>\n",
       "    <tr>\n",
       "      <th>0</th>\n",
       "      <td>id02310</td>\n",
       "      <td>Still, as I urged our leaving Ireland with suc...</td>\n",
       "    </tr>\n",
       "    <tr>\n",
       "      <th>1</th>\n",
       "      <td>id24541</td>\n",
       "      <td>If a fire wanted fanning, it could readily be ...</td>\n",
       "    </tr>\n",
       "    <tr>\n",
       "      <th>2</th>\n",
       "      <td>id00134</td>\n",
       "      <td>And when they had broken down the frail door t...</td>\n",
       "    </tr>\n",
       "    <tr>\n",
       "      <th>3</th>\n",
       "      <td>id27757</td>\n",
       "      <td>While I was thinking how I should possibly man...</td>\n",
       "    </tr>\n",
       "    <tr>\n",
       "      <th>4</th>\n",
       "      <td>id04081</td>\n",
       "      <td>I am not sure to what limit his knowledge may ...</td>\n",
       "    </tr>\n",
       "  </tbody>\n",
       "</table>\n",
       "</div>"
      ],
      "text/plain": [
       "        id                                               text\n",
       "0  id02310  Still, as I urged our leaving Ireland with suc...\n",
       "1  id24541  If a fire wanted fanning, it could readily be ...\n",
       "2  id00134  And when they had broken down the frail door t...\n",
       "3  id27757  While I was thinking how I should possibly man...\n",
       "4  id04081  I am not sure to what limit his knowledge may ..."
      ]
     },
     "execution_count": 10,
     "metadata": {},
     "output_type": "execute_result"
    }
   ],
   "source": [
    "# Reading test CSV file directly from Web, and store it in a pandas DataFrame:\n",
    "test_df=pd.read_csv(\"https://raw.githubusercontent.com/MargaritaNuridj/csula_data_science/master/spooky-author-identification/test.csv\")\n",
    "\n",
    "# Print first 5 rows\n",
    "test_df.head()"
   ]
  },
  {
   "cell_type": "code",
   "execution_count": null,
   "metadata": {},
   "outputs": [],
   "source": []
  },
  {
   "cell_type": "code",
   "execution_count": 13,
   "metadata": {
    "scrolled": true
   },
   "outputs": [
    {
     "ename": "NameError",
     "evalue": "name 'my_logreg' is not defined",
     "output_type": "error",
     "traceback": [
      "\u001b[0;31m---------------------------------------------------------------------------\u001b[0m",
      "\u001b[0;31mNameError\u001b[0m                                 Traceback (most recent call last)",
      "\u001b[0;32m<ipython-input-13-1a60b77f2112>\u001b[0m in \u001b[0;36m<module>\u001b[0;34m\u001b[0m\n\u001b[1;32m      4\u001b[0m \u001b[0;31m# Print first 5 rows\u001b[0m\u001b[0;34m\u001b[0m\u001b[0;34m\u001b[0m\u001b[0;34m\u001b[0m\u001b[0m\n\u001b[1;32m      5\u001b[0m \u001b[0mtrain_df\u001b[0m\u001b[0;34m.\u001b[0m\u001b[0mhead\u001b[0m\u001b[0;34m(\u001b[0m\u001b[0;34m)\u001b[0m\u001b[0;34m\u001b[0m\u001b[0;34m\u001b[0m\u001b[0m\n\u001b[0;32m----> 6\u001b[0;31m \u001b[0my_predict_lr\u001b[0m \u001b[0;34m=\u001b[0m \u001b[0mmy_logreg\u001b[0m\u001b[0;34m.\u001b[0m\u001b[0mpredict\u001b[0m\u001b[0;34m(\u001b[0m\u001b[0mX_tt_new\u001b[0m\u001b[0;34m)\u001b[0m\u001b[0;34m\u001b[0m\u001b[0;34m\u001b[0m\u001b[0m\n\u001b[0m\u001b[1;32m      7\u001b[0m \u001b[0mprint\u001b[0m\u001b[0;34m(\u001b[0m\u001b[0my_predict_lr\u001b[0m\u001b[0;34m)\u001b[0m\u001b[0;34m\u001b[0m\u001b[0;34m\u001b[0m\u001b[0m\n",
      "\u001b[0;31mNameError\u001b[0m: name 'my_logreg' is not defined"
     ]
    }
   ],
   "source": [
    "# Reading train CSV file directly from Web, and store it in a pandas DataFrame:\n",
    "train_df = pd.read_csv('https://raw.githubusercontent.com/MargaritaNuridj/csula_data_science/master/spooky-author-identification/train.csv')\n",
    "\n",
    "# Print first 5 rows\n",
    "train_df.head()\n",
    "y_predict_lr = my_logreg.predict(X_tt_new)\n",
    "print(y_predict_lr)"
   ]
  },
  {
   "cell_type": "code",
   "execution_count": 25,
   "metadata": {
    "scrolled": true
   },
   "outputs": [
    {
     "data": {
      "text/plain": [
       "EAP    7900\n",
       "MWS    6044\n",
       "Name: author, dtype: int64"
      ]
     },
     "execution_count": 25,
     "metadata": {},
     "output_type": "execute_result"
    }
   ],
   "source": [
    "# Find unique value counts of each author\n",
    "train_df['author'].value_counts()\n",
    "\n",
    "# train_df = train_df[(train_df.author=='MWS') | (train_df.author=='EAP')]"
   ]
  },
  {
   "cell_type": "code",
   "execution_count": 28,
   "metadata": {
    "scrolled": true
   },
   "outputs": [
    {
     "data": {
      "text/plain": [
       "0        This process, however, afforded me no means of...\n",
       "2        In his left hand was a gold snuff box, from wh...\n",
       "3        How lovely is spring As we looked from Windsor...\n",
       "5        A youth passed in solitude, my best years spen...\n",
       "6        The astronomer, perhaps, at this point, took r...\n",
       "7              The surcingle hung in ribands from my body.\n",
       "8        I knew that you could not say to yourself 'ste...\n",
       "9        I confess that neither the structure of langua...\n",
       "10       He shall find that I can feel my injuries; he ...\n",
       "11       Here we barricaded ourselves, and, for the pre...\n",
       "14        But a glance will show the fallacy of this idea.\n",
       "15       He had escaped me, and I must commence a destr...\n",
       "16       To these speeches they gave, of course, their ...\n",
       "17       Her native sprightliness needed no undue excit...\n",
       "18       I even went so far as to speak of a slightly h...\n",
       "20       Now the net work was not permanently fastened ...\n",
       "22       On every hand was a wilderness of balconies, o...\n",
       "23       With how deep a spirit of wonder and perplexit...\n",
       "24       These bizarre attempts at explanation were fol...\n",
       "25       For many prodigies and signs had taken place, ...\n",
       "26       All that as yet can fairly be said to be known...\n",
       "27       I seemed to be upon the verge of comprehension...\n",
       "30       Meantime the whole Paradise of Arnheim bursts ...\n",
       "31       I was rich and young, and had a guardian appoi...\n",
       "32       We could make out little by the dim light, but...\n",
       "37       His soul overflowed with ardent affections, an...\n",
       "39       \"The present peculiar condition of affairs at ...\n",
       "43       The visits of Merrival to Windsor, before freq...\n",
       "44       It is not to be supposed, however, that the gr...\n",
       "45       I need not tell you how sceptical I have hithe...\n",
       "                               ...                        \n",
       "19542    \"My dear Child \"I have betrayed your confidenc...\n",
       "19543    I instantly wrote to Geneva; nearly two months...\n",
       "19544    But I was at once startled and enchanted by my...\n",
       "19545       It was then seven o'clock on Saturday evening.\n",
       "19546    My life had hitherto been remarkably secluded ...\n",
       "19549    But it was not so; I was the same in strength,...\n",
       "19550    He then took the book himself, and read me a c...\n",
       "19551    \"Adolphe Le Bon, clerk to Mignaud et Fils, dep...\n",
       "19552    But of the character of his remarks at the per...\n",
       "19553    He notes every variation of face as the play p...\n",
       "19555    The rays of the newly risen sun poured in upon...\n",
       "19556    To the north on the craggy precipice a few pac...\n",
       "19557    The frauds of the banks of course I couldn't h...\n",
       "19558    He was attired, as I had expected, in a costum...\n",
       "19560    But then there is the tone laconic, or curt, w...\n",
       "19562    The modes and sources of this kind of error ar...\n",
       "19563    Yet from whom has not that rude hand rent away...\n",
       "19564    Almighty God no, no They heard they suspected ...\n",
       "19565    I hope you have not been so foolish as to take...\n",
       "19566    These reflections made our legislators pause, ...\n",
       "19567    Because there were some considerations of deep...\n",
       "19568    Before going in we walked up the street, turne...\n",
       "19569    Once my fancy was soothed with dreams of virtu...\n",
       "19570    Nay, you may have met with another whom you ma...\n",
       "19572    But these and other difficulties attending res...\n",
       "19573    Stress of weather drove us up the Adriatic Gul...\n",
       "19574    I could have fancied, while I looked at it, th...\n",
       "19575    The lids clenched themselves together as if in...\n",
       "19576    Mais il faut agir that is to say, a Frenchman ...\n",
       "19577    For an item of news like this, it strikes us i...\n",
       "Name: text, Length: 13944, dtype: object"
      ]
     },
     "execution_count": 28,
     "metadata": {},
     "output_type": "execute_result"
    }
   ],
   "source": [
    "# Split into features and labels\n",
    "X_train = train_df['text']\n",
    "y_train = train_df['author']\n",
    "X_test = test_df['text']\n",
    "\n",
    "X_train"
   ]
  },
  {
   "cell_type": "code",
   "execution_count": 15,
   "metadata": {},
   "outputs": [
    {
     "data": {
      "text/plain": [
       "CountVectorizer(analyzer='word', binary=False, decode_error='strict',\n",
       "                dtype=<class 'numpy.int64'>, encoding='utf-8', input='content',\n",
       "                lowercase=True, max_df=1.0, max_features=None, min_df=1,\n",
       "                ngram_range=(1, 1), preprocessor=None, stop_words='english',\n",
       "                strip_accents=None, token_pattern='(?u)\\\\b\\\\w\\\\w+\\\\b',\n",
       "                tokenizer=None, vocabulary=None)"
      ]
     },
     "execution_count": 15,
     "metadata": {},
     "output_type": "execute_result"
    }
   ],
   "source": [
    "# Transform text data into vectors to run it through machine learning model\n",
    "vectorizer = CountVectorizer(stop_words='english')\n",
    "# vectorizer = CountVectorizer()\n",
    "\n",
    "corpus = pd.concat([train_df['text'], test_df['text']])\n",
    "vectorizer.fit(corpus)"
   ]
  },
  {
   "cell_type": "code",
   "execution_count": 16,
   "metadata": {},
   "outputs": [],
   "source": [
    "# Randomly splitting the original dataset into training set and testing set\n",
    "X_tr, X_tt, y_tr, y_tt = train_test_split(X_train, y_train, test_size=0.3, random_state=2)\n",
    "\n",
    "X_tr_new = vectorizer.transform(X_tr)\n",
    "X_tt_new = vectorizer.transform(X_tt)"
   ]
  },
  {
   "cell_type": "code",
   "execution_count": 17,
   "metadata": {
    "scrolled": false
   },
   "outputs": [
    {
     "name": "stderr",
     "output_type": "stream",
     "text": [
      "//anaconda3/lib/python3.7/site-packages/sklearn/linear_model/logistic.py:432: FutureWarning: Default solver will be changed to 'lbfgs' in 0.22. Specify a solver to silence this warning.\n",
      "  FutureWarning)\n",
      "//anaconda3/lib/python3.7/site-packages/sklearn/linear_model/logistic.py:469: FutureWarning: Default multi_class will be changed to 'auto' in 0.22. Specify the multi_class option to silence this warning.\n",
      "  \"this warning.\", FutureWarning)\n"
     ]
    },
    {
     "data": {
      "text/plain": [
       "LogisticRegression(C=1.0, class_weight=None, dual=False, fit_intercept=True,\n",
       "                   intercept_scaling=1, l1_ratio=None, max_iter=100,\n",
       "                   multi_class='warn', n_jobs=None, penalty='l2',\n",
       "                   random_state=None, solver='warn', tol=0.0001, verbose=0,\n",
       "                   warm_start=False)"
      ]
     },
     "execution_count": 17,
     "metadata": {},
     "output_type": "execute_result"
    }
   ],
   "source": [
    "# \"my_logreg\" is instantiated as an \"object\" of LogisticClassifier \"class\" \n",
    "my_logreg = LogisticRegression()\n",
    "my_logreg.fit(X_tr_new, y_tr)"
   ]
  },
  {
   "cell_type": "code",
   "execution_count": 18,
   "metadata": {},
   "outputs": [
    {
     "name": "stdout",
     "output_type": "stream",
     "text": [
      "['EAP' 'EAP' 'HPL' ... 'EAP' 'HPL' 'EAP']\n"
     ]
    }
   ],
   "source": [
    "# Predicting the Binary Label:\n",
    "y_predict_lr = my_logreg.predict(X_tt_new)\n",
    "print(y_predict_lr)"
   ]
  },
  {
   "cell_type": "code",
   "execution_count": 19,
   "metadata": {},
   "outputs": [
    {
     "data": {
      "text/plain": [
       "array([[5.66797108e-01, 3.74438613e-01, 5.87642786e-02],\n",
       "       [8.16034418e-01, 1.31032217e-01, 5.29333653e-02],\n",
       "       [4.54477959e-02, 9.40162778e-01, 1.43894259e-02],\n",
       "       ...,\n",
       "       [5.38770971e-01, 2.81982504e-01, 1.79246524e-01],\n",
       "       [1.05602369e-02, 9.89232189e-01, 2.07573860e-04],\n",
       "       [4.92142249e-01, 1.11116964e-01, 3.96740787e-01]])"
      ]
     },
     "execution_count": 19,
     "metadata": {},
     "output_type": "execute_result"
    }
   ],
   "source": [
    "# Estimating the probability (likelihood) of Each Label: \n",
    "y_pred_proba_lr = my_logreg.predict_proba(X_tt_new)\n",
    "y_pred_proba_lr"
   ]
  },
  {
   "cell_type": "code",
   "execution_count": 20,
   "metadata": {},
   "outputs": [
    {
     "name": "stdout",
     "output_type": "stream",
     "text": [
      "Logistic Regression accuracy: 0.7906026557711952\n"
     ]
    }
   ],
   "source": [
    "# Find accuracy score\n",
    "score_lr = accuracy_score(y_tt, y_predict_lr)\n",
    "print(\"Logistic Regression accuracy:\", score_lr)"
   ]
  },
  {
   "cell_type": "code",
   "execution_count": 21,
   "metadata": {},
   "outputs": [],
   "source": [
    "# Write data to CSV file\n",
    "submission_lr = pd.DataFrame(y_pred_proba_lr, columns=[\"EAP\",\"HPL\",\"MWS\"])\n",
    "# submission_lr = pd.DataFrame(y_pred_proba_lr, columns=[\"EAP\",\"MWS\"])\n",
    "submission_lr['id'] = test_df['id']\n",
    "submission_lr = submission_lr[[\"id\",\"EAP\",\"HPL\",\"MWS\"]]\n",
    "# submission_lr = submission_lr[[\"id\",\"EAP\",\"HPL\",\"MWS\"]]\n",
    "submission_lr.to_csv('submission_lr.csv', index=None)"
   ]
  },
  {
   "cell_type": "markdown",
   "metadata": {},
   "source": [
    "# Notes:\n",
    "## With stop word and no filter accuracy is 0.7906026557711952\n",
    "## If we do not include stop word accuracy is 0.8255022131426626\n",
    "## If we do not include stop word and HPL the accuracy is 0.8697418738049714"
   ]
  },
  {
   "cell_type": "code",
   "execution_count": 22,
   "metadata": {},
   "outputs": [
    {
     "name": "stderr",
     "output_type": "stream",
     "text": [
      "//anaconda3/lib/python3.7/site-packages/sklearn/linear_model/logistic.py:432: FutureWarning: Default solver will be changed to 'lbfgs' in 0.22. Specify a solver to silence this warning.\n",
      "  FutureWarning)\n",
      "//anaconda3/lib/python3.7/site-packages/sklearn/linear_model/logistic.py:469: FutureWarning: Default multi_class will be changed to 'auto' in 0.22. Specify the multi_class option to silence this warning.\n",
      "  \"this warning.\", FutureWarning)\n"
     ]
    },
    {
     "name": "stdout",
     "output_type": "stream",
     "text": [
      "Logistic Regression accuracy: 0.8255022131426626\n"
     ]
    }
   ],
   "source": [
    "import pandas as pd\n",
    "from sklearn.feature_extraction.text import CountVectorizer\n",
    "from sklearn.model_selection import train_test_split\n",
    "from sklearn.linear_model import LogisticRegression\n",
    "from sklearn.metrics import accuracy_score\n",
    "\n",
    "\n",
    "\n",
    "\n",
    "# Reading test CSV file directly from Web, and store it in a pandas DataFrame:\n",
    "test_df=pd.read_csv(\"https://raw.githubusercontent.com/MargaritaNuridj/csula_data_science/master/spooky-author-identification/test.csv\")\n",
    "\n",
    "# Print first 5 rows\n",
    "test_df.head()\n",
    "# Reading train CSV file directly from Web, and store it in a pandas DataFrame:\n",
    "train_df = pd.read_csv('https://raw.githubusercontent.com/MargaritaNuridj/csula_data_science/master/spooky-author-identification/train.csv')\n",
    "\n",
    "# Print first 5 rows\n",
    "train_df.head()\n",
    "X_train = train_df['text']\n",
    "y_train = train_df['author']\n",
    "X_test = test_df['text']\n",
    "vectorizer = CountVectorizer()\n",
    "\n",
    "corpus = pd.concat([train_df['text'], test_df['text']])\n",
    "vectorizer.fit(corpus)\n",
    "X_tr, X_tt, y_tr, y_tt = train_test_split(X_train, y_train, test_size=0.3, random_state=2)\n",
    "\n",
    "X_tr_new = vectorizer.transform(X_tr)\n",
    "X_tt_new = vectorizer.transform(X_tt)\n",
    "# \"my_decisiontree\" is instantiated as an \"object\" of LogisticClassifier \"class\" \n",
    "my_logreg = LogisticRegression()\n",
    "my_logreg.fit(X_tr_new, y_tr)\n",
    "# Predicting the Binary Label:\n",
    "y_predict_lr = my_logreg.predict(X_tt_new)\n",
    "# print(y_predict_lr)\n",
    "# Find accuracy score\n",
    "score_lr = accuracy_score(y_tt, y_predict_lr)\n",
    "print(\"Logistic Regression accuracy:\", score_lr)"
   ]
  },
  {
   "cell_type": "code",
   "execution_count": 23,
   "metadata": {},
   "outputs": [
    {
     "name": "stdout",
     "output_type": "stream",
     "text": [
      "Logistic Regression accuracy: 0.8697418738049714\n"
     ]
    },
    {
     "name": "stderr",
     "output_type": "stream",
     "text": [
      "//anaconda3/lib/python3.7/site-packages/sklearn/linear_model/logistic.py:432: FutureWarning: Default solver will be changed to 'lbfgs' in 0.22. Specify a solver to silence this warning.\n",
      "  FutureWarning)\n"
     ]
    }
   ],
   "source": [
    "# Reading test CSV file directly from Web, and store it in a pandas DataFrame:\n",
    "test_df=pd.read_csv(\"https://raw.githubusercontent.com/MargaritaNuridj/csula_data_science/master/spooky-author-identification/test.csv\")\n",
    "\n",
    "# Print first 5 rows\n",
    "test_df.head()\n",
    "# Reading train CSV file directly from Web, and store it in a pandas DataFrame:\n",
    "train_df = pd.read_csv('https://raw.githubusercontent.com/MargaritaNuridj/csula_data_science/master/spooky-author-identification/train.csv')\n",
    "\n",
    "# Print first 5 rows\n",
    "train_df.head()\n",
    "train_df = train_df[(train_df.author=='MWS') | (train_df.author=='EAP')]\n",
    "X_train = train_df['text']\n",
    "y_train = train_df['author']\n",
    "X_test = test_df['text']\n",
    "vectorizer = CountVectorizer()\n",
    "\n",
    "corpus = pd.concat([train_df['text'], test_df['text']])\n",
    "vectorizer.fit(corpus)\n",
    "X_tr, X_tt, y_tr, y_tt = train_test_split(X_train, y_train, test_size=0.3, random_state=2)\n",
    "\n",
    "X_tr_new = vectorizer.transform(X_tr)\n",
    "X_tt_new = vectorizer.transform(X_tt)\n",
    "# \"my_decisiontree\" is instantiated as an \"object\" of LogisticClassifier \"class\" \n",
    "my_logreg = LogisticRegression()\n",
    "my_logreg.fit(X_tr_new, y_tr)\n",
    "# Predicting the Binary Label:\n",
    "y_predict_lr = my_logreg.predict(X_tt_new)\n",
    "# print(y_predict_lr)\n",
    "# Find accuracy score\n",
    "score_lr = accuracy_score(y_tt, y_predict_lr)\n",
    "print(\"Logistic Regression accuracy:\", score_lr)"
   ]
  },
  {
   "cell_type": "code",
   "execution_count": null,
   "metadata": {},
   "outputs": [],
   "source": []
  },
  {
   "cell_type": "code",
   "execution_count": null,
   "metadata": {},
   "outputs": [],
   "source": []
  }
 ],
 "metadata": {
  "kernelspec": {
   "display_name": "Python 3",
   "language": "python",
   "name": "python3"
  },
  "language_info": {
   "codemirror_mode": {
    "name": "ipython",
    "version": 3
   },
   "file_extension": ".py",
   "mimetype": "text/x-python",
   "name": "python",
   "nbconvert_exporter": "python",
   "pygments_lexer": "ipython3",
   "version": "3.7.3"
  }
 },
 "nbformat": 4,
 "nbformat_minor": 2
}
